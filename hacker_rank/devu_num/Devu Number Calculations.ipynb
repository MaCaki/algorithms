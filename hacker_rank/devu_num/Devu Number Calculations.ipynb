{
 "cells": [
  {
   "cell_type": "markdown",
   "metadata": {},
   "source": [
    "Problem Statement\n",
    "\n",
    "You are given three integers x, y and z. You have to find the sum of all numbers whose digits\n",
    "are made of only 4, 5 and 6, that have at most x fours in decimal representation, \n",
    "at most y fives in decimal representation and at most z sixes in decimal representation. \n",
    "As summation can be very large, print it modulo $10^9+7$.\n",
    "\n",
    "Input Format\n",
    "The only line containing three space-separated integers $x, y$ and $z$.\n",
    "\n",
    "Constraints \n",
    "$$ 0≤x≤100 $$\n",
    "$$ 0≤y≤100 $$\n",
    "$$ 0≤z≤100 $$\n",
    "\n",
    "Output Format \n",
    "Output the summation modulo $10^9+7$."
   ]
  },
  {
   "cell_type": "code",
   "execution_count": 1,
   "metadata": {
    "collapsed": true
   },
   "outputs": [],
   "source": [
    "import timeit\n",
    "import time\n",
    "import numpy as np\n",
    "\n",
    "def timing(f):\n",
    "    def wrap(*args):\n",
    "        time1 = time.time()\n",
    "        ret = f(*args)\n",
    "        time2 = time.time()\n",
    "        print '%s function took %0.3f s' % (f.func_name, (time2-time1))\n",
    "        return ret\n",
    "    return wrap\n",
    "\n",
    "def moduloPower(a, x, p):\n",
    "    # computes a^x (mod p)\n",
    "    ans = 1\n",
    "    prod = a\n",
    "    exp = x\n",
    "    while (exp > 0):\n",
    "        if exp&1:\n",
    "            ans = (ans*prod)%p\n",
    "        \n",
    "        exp = exp>>1\n",
    "        prod = (prod*prod)%p\n",
    "    return ans\n"
   ]
  },
  {
   "cell_type": "code",
   "execution_count": 20,
   "metadata": {
    "collapsed": false
   },
   "outputs": [
    {
     "name": "stdout",
     "output_type": "stream",
     "text": [
      "countMultisetPerm function took 0.000 s\n",
      "countMultisetPerm function took 0.000 s\n",
      "countMultisetPerm function took 40.787 s\n"
     ]
    },
    {
     "data": {
      "text/plain": [
       "774843047L"
      ]
     },
     "execution_count": 20,
     "metadata": {},
     "output_type": "execute_result"
    }
   ],
   "source": [
    "@timing\n",
    "def countMultisetPerm(x,y,z):\n",
    "    n = x + y + z\n",
    "    four_counts = [ 0 for t in range(n)]\n",
    "    five_counts = [ 0 for t in range(n)]\n",
    "    six_counts = [ 0 for t in range(n)]\n",
    "    \n",
    "    P = 1000000007\n",
    "    \n",
    "    def cumulativeAdd(array, num, end):\n",
    "        for l in range(end):\n",
    "            array[l] += num\n",
    "\n",
    "    multiset_perms_eff = [[[ 0 for t in range(z+1)] for t in range (y+1)] for t in range(x+1)]\n",
    "    \n",
    "    for i in range(x + 1):\n",
    "        multiset_perms_eff[i][0][0] = 1\n",
    "    for i in range(y + 1):\n",
    "        multiset_perms_eff[0][i][0] = 1\n",
    "    for i in range(z + 1):\n",
    "        multiset_perms_eff[0][0][i] = 1\n",
    "   \n",
    "    for i in range(1, x + 1):\n",
    "        for j in range(1, y + 1 ):\n",
    "            multiset_perms_eff[i][j][0] += (multiset_perms_eff[i-1][j][0] + multiset_perms_eff[i][j-1][0] )%P\n",
    "    \n",
    "    for j in range(1, y + 1):\n",
    "        for k in range(1, z + 1 ):\n",
    "            multiset_perms_eff[0][j][k] += (multiset_perms_eff[0][j][k-1] + multiset_perms_eff[0][j-1][k] )%P\n",
    "\n",
    "    \n",
    "    for i in range(1, x + 1):\n",
    "        for k in range(1, z + 1 ):\n",
    "            multiset_perms_eff[i][0][k] += (multiset_perms_eff[i][0][k-1] + multiset_perms_eff[i-1][0][k] )%P \n",
    "    \n",
    "    \n",
    "    \n",
    "\n",
    "    for i in range(1, x + 1):\n",
    "        for j in range(1, y + 1):\n",
    "            for k in range(1, z + 1):\n",
    "                multiset_perms_eff[i][j][k] += (multiset_perms_eff[i-1][j][k] + multiset_perms_eff[i][j-1][k] + multiset_perms_eff[i][j][k-1])%P\n",
    "\n",
    "\n",
    "    ## Accumulate digit occurances \n",
    "    \n",
    "#     for i in range(1,x + 1): \n",
    "#         for j in range(y + 1): \n",
    "#             for k in range(z + 1): \n",
    "#                 cumulativeAdd(four_counts, multiset_perms_eff[i-1][j][k], i + j + k)\n",
    "                \n",
    "#     for i in range(x + 1): \n",
    "#         for j in range(1,y + 1): \n",
    "#             for k in range(z + 1):\n",
    "#                  cumulativeAdd(five_counts, multiset_perms_eff[i][j-1][k], i + j + k)\n",
    " \n",
    "#     for i in range(x + 1): \n",
    "#         for j in range(y + 1):\n",
    "#             for k in range(1, z + 1):\n",
    "#                  cumulativeAdd(six_counts, multiset_perms_eff[i][j][k-1], i + j + k)\n",
    "                    \n",
    "    \n",
    "    for i in range(x + 1): \n",
    "        for j in range(y + 1): \n",
    "            for k in range(z + 1):\n",
    "                if i>0:\n",
    "                    cumulativeAdd(four_counts, multiset_perms_eff[i-1][j][k], i + j + k)\n",
    "                if j>0:\n",
    "                    cumulativeAdd(five_counts, multiset_perms_eff[i][j-1][k], i + j + k)\n",
    "                if k>0:\n",
    "                    cumulativeAdd(six_counts, multiset_perms_eff[i][j][k-1], i + j + k)\n",
    "                \n",
    "    totals = [ 0 for t in range(n)]\n",
    "    for i in range(n):\n",
    "         totals[i] = (4*four_counts[i] + 5*five_counts[i] + 6*six_counts[i])%P\n",
    "       \n",
    "\n",
    "    \n",
    "    sum = 0  \n",
    "    for i in range(n):\n",
    "        sum += totals[i]*moduloPower(10,i,P)\n",
    "\n",
    "    return sum%P\n",
    "\n",
    "assert countMultisetPerm(1,1,1) == 3675\n",
    "assert countMultisetPerm(1,2,3) == 39345806\n",
    "                \n",
    "countMultisetPerm(98, 91, 94)\n"
   ]
  },
  {
   "cell_type": "code",
   "execution_count": null,
   "metadata": {
    "collapsed": false
   },
   "outputs": [],
   "source": [
    "moduloPower(10,4,12)"
   ]
  },
  {
   "cell_type": "code",
   "execution_count": 14,
   "metadata": {
    "collapsed": false
   },
   "outputs": [
    {
     "data": {
      "text/plain": [
       "327648028L"
      ]
     },
     "execution_count": 14,
     "metadata": {},
     "output_type": "execute_result"
    }
   ],
   "source": [
    "(10**300)%1000000007"
   ]
  },
  {
   "cell_type": "code",
   "execution_count": 18,
   "metadata": {
    "collapsed": true
   },
   "outputs": [],
   "source": [
    "imp\n",
    "nums = map(int, raw_input().split())\n",
    "x = nums[0]\n",
    "y = nums[1]\n",
    "z = nums[2]\n",
    "n = x + y + z\n",
    "four_counts = [ 0 for t in range(n)]\n",
    "five_counts = [ 0 for t in range(n)]\n",
    "six_counts = [ 0 for t in range(n)]\n",
    "\n",
    "P = 1000000007\n",
    "\n",
    "def cumulativeAdd(array, num, end):\n",
    "    for l in range(end):\n",
    "        array[l] += num\n",
    "\n",
    "multiset_perms_eff = [[[ 0 for t in range(z+1)] for t in range (y+1)] for t in range(x+1)]\n",
    "\n",
    "for i in range(x + 1):\n",
    "    multiset_perms_eff[i][0][0] = 1\n",
    "for i in range(y + 1):\n",
    "    multiset_perms_eff[0][i][0] = 1\n",
    "for i in range(z + 1):\n",
    "    multiset_perms_eff[0][0][i] = 1\n",
    "\n",
    "for i in range(1, x + 1):\n",
    "    for j in range(1, y + 1 ):\n",
    "        multiset_perms_eff[i][j][0] += (multiset_perms_eff[i-1][j][0] + multiset_perms_eff[i][j-1][0] )%P\n",
    "\n",
    "for j in range(1, y + 1):\n",
    "    for k in range(1, z + 1 ):\n",
    "        multiset_perms_eff[0][j][k] += (multiset_perms_eff[0][j][k-1] + multiset_perms_eff[0][j-1][k] )%P\n",
    "\n",
    "\n",
    "for i in range(1, x + 1):\n",
    "    for k in range(1, z + 1 ):\n",
    "        multiset_perms_eff[i][0][k] += (multiset_perms_eff[i][0][k-1] + multiset_perms_eff[i-1][0][k] )%P \n",
    "\n",
    "\n",
    "\n",
    "\n",
    "for i in range(1, x + 1):\n",
    "    for j in range(1, y + 1):\n",
    "        for k in range(1, z + 1):\n",
    "            multiset_perms_eff[i][j][k] += (multiset_perms_eff[i-1][j][k] + multiset_perms_eff[i][j-1][k] + multiset_perms_eff[i][j][k-1])%P\n",
    "\n",
    "\n",
    "## Accumulate digit occurances \n",
    "\n",
    "for i in range(1,x + 1): \n",
    "    for j in range(y + 1): \n",
    "        for k in range(z + 1): \n",
    "            cumulativeAdd(four_counts, multiset_perms_eff[i-1][j][k], i + j + k)\n",
    "\n",
    "for i in range(x + 1): \n",
    "    for j in range(1,y + 1): \n",
    "        for k in range(z + 1):\n",
    "             cumulativeAdd(five_counts, multiset_perms_eff[i][j-1][k], i + j + k)\n",
    "\n",
    "for i in range(x + 1): \n",
    "    for j in range(y + 1):\n",
    "        for k in range(1, z + 1):\n",
    "             cumulativeAdd(six_counts, multiset_perms_eff[i][j][k-1], i + j + k)\n",
    "\n",
    "\n",
    "totals = [ 0 for t in range(n)]\n",
    "for i in range(n):\n",
    "     totals[i] = (4*four_counts[i] + 5*five_counts[i] + 6*six_counts[i])%P\n",
    "\n",
    "\n",
    "\n",
    "sum = 0  \n",
    "for i in range(n):\n",
    "    sum += totals[i]*moduloPower(10,i,P)\n",
    "sum = sum%P\n",
    "sys.stdout.write(sum)\n"
   ]
  },
  {
   "cell_type": "code",
   "execution_count": null,
   "metadata": {
    "collapsed": true
   },
   "outputs": [],
   "source": []
  }
 ],
 "metadata": {
  "kernelspec": {
   "display_name": "Python 2",
   "language": "python",
   "name": "python2"
  },
  "language_info": {
   "codemirror_mode": {
    "name": "ipython",
    "version": 2
   },
   "file_extension": ".py",
   "mimetype": "text/x-python",
   "name": "python",
   "nbconvert_exporter": "python",
   "pygments_lexer": "ipython2",
   "version": "2.7.10"
  }
 },
 "nbformat": 4,
 "nbformat_minor": 0
}
