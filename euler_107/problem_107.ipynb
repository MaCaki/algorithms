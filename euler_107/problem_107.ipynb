{
 "cells": [
  {
   "cell_type": "markdown",
   "metadata": {},
   "source": [
    "---\n",
    "Minimal Network (Euler 107), or why matroid are useful. \n",
    "---\n",
    "\n",
    "[This problem](https://projecteuler.net/problem=107) asks us to find a minimum spanning tree (MST) in a weighted network, then calculate the savings by pruning the graph to this MST. \n",
    "\n",
    "We'll implement Kruskal's algorithm, which seems to be a classic in the canon of algorithms that CS majors learn.  However it is simply a particular case of the **greedy algorithm** for maximizing a weight function over a [matroid](https://en.wikipedia.org/wiki/Matroid). In this case, the matroid $M$ is the collection of sets of edges not containing a cycle, and the bases of this matroid are the spanning trees.\n",
    "\n",
    "It is a theorem of Rado that the greedy algorithm produces an optimal set over a family of sets $M$ if an only if $M$ is a matroid. In fact, the greedy algorithm completely classifies classical matroids. Let's verify this for the very specific case where we are using the greedy algorithm to construct a minimum spanning tree.  \n",
    "\n",
    "Our ground set in this case is the set of edges $E = \\{ (v,w) \\in V\\times V \\}$ of a graph $G$ on $V$, and we call a set of edges *independent* if it does not contain a cycle. Maximal indpendent sets, or bases, are spanning trees $\\mathcal{T}$.     In this context, the **basis exchange property** says that given two trees, $T$ and $S$, if $g\\in T \\setminus S$ then there should be an $f\\in S\\setminus T$ such that $T+f-g$ is also a tree. Let's verify that $\\mathcal{T}$ is indeed a basis of a matroid. \n",
    "\n",
    "* *If $e\\in S\\setminus T $ then removing it creates connected components partitioning $Vert(G)=A\\sqcup B$.   Since $T$ is a spanning tree, there must an edge $f\\in T$ connecting $A$ and $B$, however this edge cannot be $S$ since $e$ is the only bridge between these two components in $S$.  Therefore $S-e+f$ is once again a spanning tree. In fact $T-f+e$ is also still a tree.*\n",
    "\n",
    "So the set of spanning trees actually satisfies a **strong exchange property** and does indeed form a matroid.  This will give us a bit more machinery to prove that the greedy algorithm will produce an optimum. We'll use the fact that any independent set $I$ of a matroid can be extended to a basis $I\\subset B$.   \n",
    " \n",
    "The greedy algorithm (Kruskal's) is absurdly unsophisticated.  Since we are minimizing, we start by adding the smallest element to our set $T$.  At every iteration, we add the smallest element $e$ such that $T+e$ is stil independent (doesn't contain cycles).  And since this is a matroid, we know that at every iteration, our set of edges  $T_i$ is contained in a tree $B_i$.  \n",
    "\n",
    "Let $w: E \\rightarrow \\bf{R}^+$ be the weight function on the edges.  Suppose $i$ is the first time where we make a set $T_i$ that is not contained in an optimal base $B_i$. Let $e$ be the element we add at this iteration.  Since $T_{i-1}\\subset B_{min}$ where $B_{min}$ is a MST, we can use the strong exchange property to replace an $f\\in B_{min}\\setminus T_{i-1}$ with $e$. However all such $f$ will have equal or larger weight than $e$ since $e$ minimizes $w(T_{i-1}+e)$ over all $e$ not forming a cycle.  But the minimality of $B_{min}$ implies that $w(f) \\leq w(e)$ proving that $w(B_i) = w(B_{min})$ for all $i$.  \n",
    "\n",
    "Ok, so now it's safe to use the greedy algorithm.   \n",
    " \n",
    " \n"
   ]
  },
  {
   "cell_type": "code",
   "execution_count": 4,
   "metadata": {
    "collapsed": false
   },
   "outputs": [
    {
     "name": "stdout",
     "output_type": "stream",
     "text": [
      "Minimum weight: 2153\n",
      "Maximum Savings: 259679\n"
     ]
    }
   ],
   "source": [
    "# Assuming you have the data file handy...\n",
    "\n",
    "edges = []\n",
    "network_data = file(\"../data/p107_network.txt\",'r')\n",
    "lines = [l.split(\",\") for l in network_data.readlines()]\n",
    "\n",
    "n = len(lines[0])\n",
    "\n",
    "total_sum = 0\n",
    "for i in range(n):\n",
    "    for j in range(i):\n",
    "        if lines[i][j] != '-':\n",
    "            total_sum += int(lines[i][j])\n",
    "            edge = (int(lines[i][j]), i, j)\n",
    "            edges.append(edge)\n",
    "\n",
    "edges.sort()\n",
    "\n",
    "trees = [set([x]) for x in range(n)]\n",
    "\n",
    "\n",
    "min_sum = 0\n",
    "for (w,n1,n2) in edges:\n",
    "    tree1 = None\n",
    "    tree2 = None\n",
    "    for i in range(len(trees)):\n",
    "        if n1 in trees[i]:\n",
    "            tree1 = i\n",
    "        if n2 in trees[i]:\n",
    "            tree2 = i\n",
    "            \n",
    "    if tree1 == tree2:\n",
    "        continue\n",
    "    else:\n",
    "        min_sum += w\n",
    "        trees[tree1] = trees[tree1].union(trees[tree2])\n",
    "        del trees[tree2]\n",
    "        \n",
    "print \"Minimum weight: \" + str(min_sum)\n",
    "print \"Maximum Savings: \" + str(total_sum - min_sum)"
   ]
  }
 ],
 "metadata": {
  "kernelspec": {
   "display_name": "Python 2",
   "language": "python",
   "name": "python2"
  },
  "language_info": {
   "codemirror_mode": {
    "name": "ipython",
    "version": 2
   },
   "file_extension": ".py",
   "mimetype": "text/x-python",
   "name": "python",
   "nbconvert_exporter": "python",
   "pygments_lexer": "ipython2",
   "version": "2.7.11"
  }
 },
 "nbformat": 4,
 "nbformat_minor": 0
}
