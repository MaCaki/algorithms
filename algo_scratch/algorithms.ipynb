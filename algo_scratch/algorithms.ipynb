{
 "cells": [
  {
   "cell_type": "code",
   "execution_count": 25,
   "metadata": {},
   "outputs": [],
   "source": [
    "import math"
   ]
  },
  {
   "cell_type": "code",
   "execution_count": 24,
   "metadata": {},
   "outputs": [
    {
     "name": "stdout",
     "output_type": "stream",
     "text": [
      "aaa\n",
      "abcba\n",
      "abcba\n"
     ]
    }
   ],
   "source": [
    "\"\"\"\n",
    "Given a string as the input, append characters to it to make it into a palindrome. Return this new palindrome.\n",
    "\"\"\"\n",
    "\n",
    "def _is_palindrome(s):\n",
    "    return s == s[-1::-1]\n",
    "\n",
    "def make_palindrome(input):\n",
    "    if _is_palindrome(input):\n",
    "        return input\n",
    "    for i in range(1, len(input)):\n",
    "        # go through each elt of input an attempt to patterm match. \n",
    "        \n",
    "        if _is_palindrome(input[i:]):\n",
    "            return input + input[i-1::-1]                         \n",
    " \n",
    "print(make_palindrome('aaa'))\n",
    "print(make_palindrome('abc'))\n",
    "print(make_palindrome('abcb'))"
   ]
  },
  {
   "cell_type": "code",
   "execution_count": 44,
   "metadata": {},
   "outputs": [
    {
     "name": "stdout",
     "output_type": "stream",
     "text": [
      "True\n",
      "False\n",
      "True\n"
     ]
    }
   ],
   "source": [
    "\"\"\"\n",
    "You are given two strings - where the first string can include regex wildcard characters (* and ?)\n",
    "and other is a regular string.\n",
    "Write a method to check if the two strings match.\n",
    "\n",
    "* --> Matches with zero or more characters.\n",
    "\n",
    "? --> Matches exactly a single character.\n",
    "\"\"\"\n",
    "def match(first, second):\n",
    "    \"\"\" \n",
    "    a*b\n",
    "    acbdb\n",
    "    \"\"\"\n",
    "    curr_state = 0\n",
    "    \n",
    "    for i in range(len(second)):\n",
    "        # we've run out of states to match, but string continues\n",
    "        if curr_state > len(first) - 1:\n",
    "            return False\n",
    "        \n",
    "        \n",
    "        if first[curr_state] == '*':\n",
    "            if curr_state == len(first) - 1:\n",
    "                return True\n",
    "            \n",
    "            # if we can proceed to next state, try to match substrings\n",
    "            if second[i] == first[curr_state + 1]:\n",
    "                # match(b, bdb)\n",
    "                is_match = match(first[curr_state + 1:], second[i:])\n",
    "                if is_match:\n",
    "                    return True\n",
    "        \n",
    "        elif first[curr_state] == '?':\n",
    "            # the current char can be anything. \n",
    "            return match(first[curr_state + 1:], second[i+1:])\n",
    "            \n",
    "        else:\n",
    "            # The current state is a literal and must match exactly\n",
    "            # before proceeding\n",
    "            if first[curr_state] == second[i]:\n",
    "                curr_state += 1\n",
    "            else:\n",
    "                return False\n",
    "    # we haven't exhausted all the states\n",
    "    if curr_state < len(first) - 1:\n",
    "        return False\n",
    "    else:\n",
    "        return True\n",
    "    \n",
    "    \n",
    "print(match('a*b?', 'acbddbl'))\n",
    "print(match('a*b', 'acccd'))\n",
    "print(match('?abc', 'dabc'))"
   ]
  },
  {
   "cell_type": "code",
   "execution_count": 48,
   "metadata": {},
   "outputs": [
    {
     "name": "stdout",
     "output_type": "stream",
     "text": [
      "False\n",
      "True\n",
      "True\n"
     ]
    }
   ],
   "source": [
    "def match2(first, second):\n",
    "    return match_recur(first, second, 0, 0)\n",
    "\n",
    "def match_recur(first, second, i, j):\n",
    "    if i >= len(first) and j >= len(second):\n",
    "        return True\n",
    "    elif i >= len(first) or j >= len(second):\n",
    "        return False\n",
    "    elif first[i] == \"*\":\n",
    "        while first[i+1] != second[j]:\n",
    "            j += 1\n",
    "            if j >= len(second):\n",
    "                return False\n",
    "            \n",
    "        return match_recur(first, second, i+1, j)\n",
    "        \n",
    "    elif first[i] == \"?\":\n",
    "        return match_recur(first, second, i+1, j+1)\n",
    "    elif first[i] == second[j]:\n",
    "        return match_recur(first, second, i+1, j+1)\n",
    "    \n",
    "    return False\n",
    "    \n",
    "print(match2('a*b', 'acbddb'))\n",
    "print(match2('a*b', 'acccdb'))\n",
    "print(match2('?abc', 'dabc'))"
   ]
  },
  {
   "cell_type": "code",
   "execution_count": 46,
   "metadata": {},
   "outputs": [
    {
     "name": "stdout",
     "output_type": "stream",
     "text": [
      "False\n",
      "False\n",
      "True\n"
     ]
    }
   ],
   "source": [
    "def match3(first, second):\n",
    "    if not first or not second:\n",
    "        return False\n",
    "        \n",
    "    i, j, = 0, 0\n",
    "    first_length = len(first)\n",
    "    second_length = len(second)\n",
    "    \n",
    "    while i < first_length and j < second_length:\n",
    "        if first[i] == \"*\":\n",
    "            if i < first_length:\n",
    "                i += 1\n",
    "                next_first = first[i]\n",
    "                while j < second_length and second[j] != next_first:\n",
    "                    j += 1\n",
    "                if j == second_length:\n",
    "                    return False\n",
    "\n",
    "        if first[i] == \"?\":\n",
    "            if i == first_length - 1 and j == second_length - 1:\n",
    "                return True\n",
    "            if i < first_length - 1:\n",
    "                i += 1\n",
    "            if j < second_length - 1:\n",
    "                j += 1\n",
    "            if first[i] != second[j]:\n",
    "                return False\n",
    "            \n",
    "        if first[i] != second[j]:\n",
    "                return False\n",
    "        i += 1\n",
    "        j += 1\n",
    "    \n",
    "    return True\n",
    "\n",
    "print(match3('a*b?', 'acbddbl'))\n",
    "print(match3('a*b', 'acccd'))\n",
    "print(match3('?abc', 'dabc'))"
   ]
  },
  {
   "cell_type": "code",
   "execution_count": 122,
   "metadata": {},
   "outputs": [
    {
     "name": "stdout",
     "output_type": "stream",
     "text": [
      "0\n",
      "2\n",
      "53\n",
      "1381\n",
      "1381 []\n",
      "53 ['C']\n",
      "2 ['A', 'C']\n",
      "BAC\n",
      "\n",
      "\n",
      "\n",
      "0\n",
      "26\n",
      "26 []\n",
      "Z\n"
     ]
    }
   ],
   "source": [
    "def excel_col_name_to_int(col_name):\n",
    "    index = 0\n",
    "    for c in col_name:\n",
    "        print(index)\n",
    "        index = index*26 + (ord(c) - ord('A') + 1)\n",
    "    return index\n",
    "\n",
    "def excel_column_number_to_name(column_number):\n",
    "    \"\"\"\n",
    "    AA = 26 + 1\n",
    "    AAA = 26^2 + 1 \n",
    "    BAC = 26^2\n",
    "    \"\"\"\n",
    "    col_name = []\n",
    "    while column_number > 0:\n",
    "        print(column_number, col_name)\n",
    "        # idx + ord(A) - 1 = ord(c) \n",
    "        char_i = (column_number - 1)%26 + ord('A')\n",
    "\n",
    "        col_name.insert(0, chr(char_i))\n",
    "        \n",
    "        column_number = int((column_number - (column_number - 1) % 26) / 26)\n",
    "    \n",
    "    return ''.join(col_name)\n",
    "\n",
    "print(excel_col_name_to_int('BAC'))\n",
    "print(excel_column_number_to_name(1381))\n",
    "\n",
    "print('\\n\\n')\n",
    "print(excel_col_name_to_int('Z'))\n",
    "print(excel_column_number_to_name(26))"
   ]
  },
  {
   "cell_type": "code",
   "execution_count": 126,
   "metadata": {},
   "outputs": [],
   "source": [
    "from collections import deque"
   ]
  },
  {
   "cell_type": "code",
   "execution_count": 133,
   "metadata": {},
   "outputs": [
    {
     "data": {
      "text/plain": [
       "deque(['b', 'a', '1'])"
      ]
     },
     "execution_count": 133,
     "metadata": {},
     "output_type": "execute_result"
    }
   ],
   "source": [
    "d = deque()\n",
    "d.append('1')\n",
    "d.extendleft('a')\n",
    "d.appendleft('b')\n",
    "d.extendleft('c')\n",
    "d.popleft()\n",
    "\n",
    "d\n"
   ]
  },
  {
   "cell_type": "code",
   "execution_count": 81,
   "metadata": {},
   "outputs": [
    {
     "name": "stdout",
     "output_type": "stream",
     "text": [
      "[0, 0, 0]\n",
      "[1, 0, 0]\n",
      "[1, 0, 1]\n",
      "[0, 0, 1]\n",
      "[0, 0, 0]\n",
      "[0, 0, -1]\n"
     ]
    },
    {
     "data": {
      "text/plain": [
       "False"
      ]
     },
     "execution_count": 81,
     "metadata": {},
     "output_type": "execute_result"
    }
   ],
   "source": [
    "\n",
    "def valid(string):\n",
    "    stacks = [0] * 3\n",
    "    \n",
    "    parens_to_i = {\n",
    "        '(': (0, 1),\n",
    "        ')': (0, -1),\n",
    "        '{': (1, 1),\n",
    "        '}': (1, -1),\n",
    "        '[': (2, 1),\n",
    "        ']': (2, -1)\n",
    "    }\n",
    "    \n",
    "    \n",
    "    for char in string:\n",
    "        if ord(char) < 97 or ord(char) > 122:\n",
    "            if char not in parens_to_i:\n",
    "                return False\n",
    "            else:\n",
    "                i, inc = parens_to_i[char]\n",
    "                stacks[i] += inc\n",
    "        print(stacks)\n",
    "\n",
    "    if any([s != 0 for s in stacks]):\n",
    "        return False\n",
    "    return True\n",
    "\n",
    "valid('a([)]]')"
   ]
  },
  {
   "cell_type": "code",
   "execution_count": 136,
   "metadata": {},
   "outputs": [
    {
     "data": {
      "text/plain": [
       "<__main__.BinaryTree at 0x10db086a0>"
      ]
     },
     "execution_count": 136,
     "metadata": {},
     "output_type": "execute_result"
    }
   ],
   "source": [
    "class TreeNode:\n",
    "    def __init__(self, data,left_child = None, right_child = None):\n",
    "        self.data = data\n",
    "        self.left_child = left_child\n",
    "        self.right_child = right_child\n",
    "    \n",
    "    def __str__(self):\n",
    "        return '%s' %self.data\n",
    "\n",
    "class BinaryTree:\n",
    "    \n",
    "    def __init__(self, root_node = None):\n",
    "        # Check out Use Me section to find out Node Structure\n",
    "        self.root = root_node\n",
    "    \n",
    "    def insert(self,root,data):\n",
    "        # Return the new root\n",
    "        def insert_recursive(node, data):\n",
    "            # if node is null, return a new node. \n",
    "            # else traverse down and set the left child\n",
    "            # equal to the the result of the recursive call. \n",
    "            if not node:\n",
    "                return TreeNode(data)\n",
    "            if node.data < data:\n",
    "                node.right_child = insert_recursive(node.right_child, data)\n",
    "            else:\n",
    "                node.left_child = insert_recursive(node.left_child, data)\n",
    "            # if we recursed, then at some point single node is set to be \n",
    "            # a child however if we're in a recursion stack\n",
    "            # we need to return the node back to the calling func so that\n",
    "            # it can set its child to the new tree.\n",
    "            return node\n",
    "        \n",
    "        return insert_recursive(root, data)\n",
    "    \n",
    "\n",
    "root = TreeNode(3)\n",
    "t = BinaryTree(root_node=root)\n",
    "for i in [4,2,8,5,10]:\n",
    "    t.insert(root, i)\n",
    "\n",
    "t"
   ]
  },
  {
   "cell_type": "code",
   "execution_count": null,
   "metadata": {},
   "outputs": [],
   "source": []
  }
 ],
 "metadata": {
  "kernelspec": {
   "display_name": "Python 3",
   "language": "python",
   "name": "python3"
  },
  "language_info": {
   "codemirror_mode": {
    "name": "ipython",
    "version": 3
   },
   "file_extension": ".py",
   "mimetype": "text/x-python",
   "name": "python",
   "nbconvert_exporter": "python",
   "pygments_lexer": "ipython3",
   "version": "3.7.1"
  }
 },
 "nbformat": 4,
 "nbformat_minor": 2
}
