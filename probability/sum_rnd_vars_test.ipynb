{
 "cells": [
  {
   "cell_type": "code",
   "execution_count": 14,
   "metadata": {
    "collapsed": false
   },
   "outputs": [
    {
     "name": "stdout",
     "output_type": "stream",
     "text": [
      "2\n",
      "1 1\n"
     ]
    }
   ],
   "source": [
    "\n",
    "def primesLessThan(n):\n",
    "    if n == 1: \n",
    "        return\n",
    "        yield\n",
    "        \n",
    "    l = [True]*n\n",
    "    l[0] = l[1] = False\n",
    "    for (p, isPrime) in zip(range(n), l):\n",
    "        if isPrime:\n",
    "            yield int(p)\n",
    "            for i in range(p*p,n,p):\n",
    "                l[i] = False\n",
    "                \n",
    "def reduce_fraction(numerator, denominator):\n",
    "    primes = primesLessThan(denominator+1)\n",
    "    for p in primes: \n",
    "        while(numerator%p == 0 and denominator%p == 0):\n",
    "            numerator = numerator/p\n",
    "            denominator = denominator/p\n",
    "    return int(numerator), int(denominator)\n",
    "\n",
    "p,q = reduce_fraction(2,2)\n",
    "print(p,q)"
   ]
  }
 ],
 "metadata": {
  "kernelspec": {
   "display_name": "Python 3",
   "language": "python",
   "name": "python3"
  },
  "language_info": {
   "codemirror_mode": {
    "name": "ipython",
    "version": 3
   },
   "file_extension": ".py",
   "mimetype": "text/x-python",
   "name": "python",
   "nbconvert_exporter": "python",
   "pygments_lexer": "ipython3",
   "version": "3.5.1"
  },
  "latex_envs": {
   "bibliofile": "biblio.bib",
   "cite_by": "apalike",
   "current_citInitial": 1,
   "eqLabelWithNumbers": true,
   "eqNumInitial": 0
  }
 },
 "nbformat": 4,
 "nbformat_minor": 0
}
