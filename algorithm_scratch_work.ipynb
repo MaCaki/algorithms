{
 "cells": [
  {
   "cell_type": "code",
   "execution_count": 14,
   "metadata": {
    "collapsed": false
   },
   "outputs": [],
   "source": [
    " \n",
    "import timeit\n",
    "import time\n",
    "import numpy as np\n",
    "\n",
    "def timing(f):\n",
    "    def wrap(*args):\n",
    "        time1 = time.time()\n",
    "        ret = f(*args)\n",
    "        time2 = time.time()\n",
    "        print '%s function took %0.3f s' % (f.func_name, (time2-time1))\n",
    "        return ret\n",
    "    return wrap\n"
   ]
  },
  {
   "cell_type": "code",
   "execution_count": 27,
   "metadata": {
    "collapsed": true
   },
   "outputs": [],
   "source": [
    "\n"
   ]
  },
  {
   "cell_type": "code",
   "execution_count": 42,
   "metadata": {
    "collapsed": false
   },
   "outputs": [
    {
     "name": "stdout",
     "output_type": "stream",
     "text": [
      "moduloPowerOpt function took 0.000 s\n",
      "12\n",
      "moduloPowerNaive function took 0.000 s\n",
      "12\n"
     ]
    }
   ],
   "source": [
    "\n",
    "\n",
    "print(moduloPowerOpt(9, 2, 23))\n",
    "\n",
    "print (moduloPowerNaive(9,24,23))"
   ]
  },
  {
   "cell_type": "code",
   "execution_count": null,
   "metadata": {
    "collapsed": false
   },
   "outputs": [],
   "source": [
    "moduloPowerOpt(12412312, 1312312, 413158523)"
   ]
  },
  {
   "cell_type": "code",
   "execution_count": 17,
   "metadata": {
    "collapsed": false
   },
   "outputs": [
    {
     "name": "stdout",
     "output_type": "stream",
     "text": [
      "countMultisetPerm function took 4.395 s\n"
     ]
    }
   ],
   "source": [
    "#### Numpy version\n",
    "\n",
    "@timing\n",
    "def countMultisetPerm(x,y,z):\n",
    "    n = x + y + z\n",
    "    x_counts = np.zeros(n)\n",
    "    y_counts = np.zeros(n)\n",
    "    z_counts = np.zeros(n)\n",
    "\n",
    "    multiset_perms_eff = np.zeros([x+1,y+1,z+1])\n",
    "    multiset_perms_eff[0,0,0] = 1\n",
    "    \n",
    "    for i in range(x+1):\n",
    "        for j in range(y+1):\n",
    "             for k in range(z+1):\n",
    "                    multiset_perms_eff[i][j][k] += multiset_perms_eff[i-1][j][k] if i > 0 else 0\n",
    "                    multiset_perms_eff[i][j][k] += multiset_perms_eff[i][j-1][k] if j > 0 else 0\n",
    "                    multiset_perms_eff[i][j][k] += multiset_perms_eff[i][j][k-1] if k > 0 else 0 \n",
    "                    \n",
    "#                     if i > 0: \n",
    "#                         for l in range(i + j + k ): \n",
    "#                             s = multiset_perms_eff[i-1][j][k]\n",
    "#                             x_counts[l] += s\n",
    "#                     if j > 0: \n",
    "#                         for l in range(i+j+k ): \n",
    "#                             y_counts[l] += multiset_perms_eff[i][j-1][k]\n",
    "#                     if k > 0: \n",
    "#                         for l in range(i+j+k): \n",
    "#                             z_counts[l] += multiset_perms_eff[i][j][k-1]\n",
    "                            \n",
    "#     totals = [ 0 for t in range(n)]\n",
    "#     for i in range(n):\n",
    "#         totals[i] = 4*x_counts[i] + 5*y_counts[i] + 6*z_counts[i]\n",
    "       \n",
    "#     print totals\n",
    "    \n",
    "#     sum = 0\n",
    "    \n",
    "#     for i in range(n):\n",
    "#         sum += totals[i]*10**i\n",
    "\n",
    "#     print sum\n",
    "\n",
    "countMultisetPerm(100,100,100)\n"
   ]
  },
  {
   "cell_type": "code",
   "execution_count": 11,
   "metadata": {
    "collapsed": false
   },
   "outputs": [
    {
     "data": {
      "text/plain": [
       "False"
      ]
     },
     "execution_count": 11,
     "metadata": {},
     "output_type": "execute_result"
    }
   ],
   "source": [
    "## Test for PSD matrix\n",
    "\n",
    "\n",
    "from scipy.stats import bernoulli\n",
    "from scipy import linalg\n",
    "import numpy as np\n",
    "\n",
    "P = 30\n",
    "N = 10\n",
    "np.random.seed(18) \n",
    "X = bernoulli.rvs(0.5, size=N*P).reshape((N, P))\n",
    "X = 2 * X - 1* np.ones_like(X)\n",
    "Q = np.dot(X.T, X)\n",
    "def is_semi_pos_def(x):\n",
    "    return np.all(np.linalg.eigvals(x) >= 0)\n",
    "is_semi_pos_def(Q)\n"
   ]
  },
  {
   "cell_type": "code",
   "execution_count": 133,
   "metadata": {
    "collapsed": false
   },
   "outputs": [
    {
     "data": {
      "text/plain": [
       "array([ -1.10085498e-15,   1.21457890e-17,   2.33501314e-16,\n",
       "         2.57557110e+00,   1.24244289e+01])"
      ]
     },
     "execution_count": 133,
     "metadata": {},
     "output_type": "execute_result"
    }
   ],
   "source": [
    "P = 5\n",
    "N = 3\n",
    "np.random.seed(18) \n",
    "X = bernoulli.rvs(0.5, size=N*P).reshape((N, P))\n",
    "X = 2 * X - 1* np.ones_like(X)\n",
    "Q = np.dot(X.T, X)\n",
    "np.linalg.eigvalsh(Q)"
   ]
  },
  {
   "cell_type": "code",
   "execution_count": 68,
   "metadata": {
    "collapsed": false
   },
   "outputs": [
    {
     "name": "stdout",
     "output_type": "stream",
     "text": [
      "100\n",
      "(300, 300)\n",
      "is_semi_pos_def_chol function took 0.001 s\n",
      "False\n",
      "is_semi_pos_def_eigs function took 0.070 s\n",
      "True\n",
      "is_semi_pos_def_eigsh function took 0.013 s\n",
      "True\n"
     ]
    }
   ],
   "source": [
    "import sympy\n",
    "from sympy.mpmath import mp\n",
    "import numpy as np\n",
    "\n",
    "P = 300\n",
    "N = 100\n",
    "X = bernoulli.rvs(0.5, size=N*P).reshape((N, P))\n",
    "X = 2 * X - 1* np.ones_like(X)\n",
    "M = mp.matrix(np.dot(X.T, X))\n",
    "Q = np.dot(X.T, X)\n",
    "\n",
    "print np.linalg.matrix_rank(Q)\n",
    "print Q.shape\n",
    "\n",
    "@timing\n",
    "def is_semi_pos_def_chol(x):\n",
    "    try:\n",
    "        np.linalg.cholesky(x)\n",
    "        return True\n",
    "    except np.linalg.linalg.LinAlgError:\n",
    "        return False\n",
    "\n",
    "@timing\n",
    "def is_semi_pos_def_eigsh(x, epsilon=1e-10):\n",
    "    return np.all(np.linalg.eigvalsh(x) >= -epsilon)\n",
    "\n",
    "@timing\n",
    "def is_semi_pos_def_eigs(x, epsilon=1e-10):\n",
    "    return np.all(np.linalg.eigvals(x) >= -epsilon)\n",
    "\n",
    "\n",
    "@timing\n",
    "def is_semi_pos_def_symbolic(x):\n",
    "    try:\n",
    "        sympy.mpmath.cholesky(x, tol=1)\n",
    "        return True\n",
    "    except ValueError as e:\n",
    "        print e\n",
    "        return False\n",
    "\n",
    "print is_semi_pos_def_chol(Q)\n",
    "print is_semi_pos_def_eigs(Q)\n",
    "print is_semi_pos_def_eigsh(Q)\n",
    "#print is_semi_pos_def_symbolic(M)"
   ]
  },
  {
   "cell_type": "code",
   "execution_count": 77,
   "metadata": {
    "collapsed": false
   },
   "outputs": [
    {
     "name": "stdout",
     "output_type": "stream",
     "text": [
      "matrix is not positive-definite\n",
      "is_semi_pos_def_symbolic function took 0.078 s\n",
      "False\n",
      "is_semi_pos_def_chol function took 0.000 s\n",
      "False\n",
      "is_semi_pos_def_eigsh function took 0.000 s\n",
      "True\n"
     ]
    }
   ],
   "source": [
    "from sympy import Matrix, S, Float\n",
    "\n",
    "P = 30\n",
    "N = 10\n",
    "X = bernoulli.rvs(0.5, size=N*P).reshape((N, P))\n",
    "X = 2 * X - 1* np.ones_like(X)\n",
    "Q = np.dot(X.T, X)\n",
    "M = Matrix(Q)\n",
    "N = mp.matrix(Q)\n",
    "\n",
    "\n",
    "\n",
    "@timing\n",
    "def is_semi_pos_def_symbolic_old(x):\n",
    "    try:\n",
    "        x.cholesky()\n",
    "        return True\n",
    "    except ValueError as e:\n",
    "        print e\n",
    "        return False\n",
    "\n",
    "\n",
    "\n",
    "print is_semi_pos_def_symbolic(N)\n",
    "print is_semi_pos_def_chol(Q)\n",
    "print is_semi_pos_def_eigsh(Q)"
   ]
  },
  {
   "cell_type": "code",
   "execution_count": 47,
   "metadata": {
    "collapsed": false
   },
   "outputs": [
    {
     "data": {
      "text/plain": [
       "array([ -1.08542624e-14,  -6.97066000e-15,  -5.90558945e-15,\n",
       "        -4.78690892e-15,  -3.50740673e-15,  -3.18066075e-15,\n",
       "        -1.84473359e-15,  -1.33283308e-15,  -1.10637118e-15,\n",
       "        -9.97704464e-16,  -3.74878199e-16,   7.89334840e-18,\n",
       "         6.26989612e-16,   1.17299458e-15,   1.95169295e-15,\n",
       "         2.81880741e-15,   3.29822693e-15,   4.29153100e-15,\n",
       "         6.18332599e-15,   8.63380232e-15,   8.84668911e+00,\n",
       "         9.98813345e+00,   1.48234847e+01,   2.16274787e+01,\n",
       "         2.65436294e+01,   3.04258708e+01,   3.45951609e+01,\n",
       "         3.83958744e+01,   5.13386206e+01,   6.34150580e+01])"
      ]
     },
     "execution_count": 47,
     "metadata": {},
     "output_type": "execute_result"
    }
   ],
   "source": [
    "np.linalg.eigvalsh(Q)"
   ]
  },
  {
   "cell_type": "code",
   "execution_count": 71,
   "metadata": {
    "collapsed": false
   },
   "outputs": [
    {
     "name": "stdout",
     "output_type": "stream",
     "text": [
      "Matrix must be square.\n",
      "is_semi_pos_def_symbolic_old function took 0.000 s\n"
     ]
    },
    {
     "data": {
      "text/plain": [
       "False"
      ]
     },
     "execution_count": 71,
     "metadata": {},
     "output_type": "execute_result"
    }
   ],
   "source": [
    "import sympy.mpmath \n",
    "A = Matrix(-eye(3) + hilbert(3))\n",
    "is_semi_pos_def_symbolic_old(A)\n"
   ]
  },
  {
   "cell_type": "code",
   "execution_count": 76,
   "metadata": {
    "collapsed": false
   },
   "outputs": [
    {
     "name": "stdout",
     "output_type": "stream",
     "text": [
      "Matrix must be symmetric.\n",
      "is_semi_pos_def_symbolic_old function took 0.001 s\n"
     ]
    },
    {
     "data": {
      "text/plain": [
       "False"
      ]
     },
     "execution_count": 76,
     "metadata": {},
     "output_type": "execute_result"
    }
   ],
   "source": [
    "A = Matrix(((-1,15,-5),(15,18,0),(0,0,0)))\n",
    "is_semi_pos_def_symbolic_old(A)"
   ]
  },
  {
   "cell_type": "code",
   "execution_count": 9,
   "metadata": {
    "collapsed": false
   },
   "outputs": [],
   "source": [
    "import IPython.html.nbextensions as nb\n",
    "import IPython"
   ]
  },
  {
   "cell_type": "code",
   "execution_count": 4,
   "metadata": {
    "collapsed": false
   },
   "outputs": [
    {
     "name": "stdout",
     "output_type": "stream",
     "text": [
      "/Users/toru/.jupyter\n",
      "['/Users/toru/.jupyter', '//anaconda/etc/jupyter', '/usr/local/etc/jupyter', '/etc/jupyter']\n"
     ]
    }
   ],
   "source": [
    "from __future__ import print_function\n",
    "from jupyter_core.paths import jupyter_config_dir, jupyter_config_path\n",
    "print(jupyter_config_dir())\n",
    "print(jupyter_config_path())"
   ]
  },
  {
   "cell_type": "code",
   "execution_count": 19,
   "metadata": {
    "collapsed": false
   },
   "outputs": [
    {
     "name": "stdout",
     "output_type": "stream",
     "text": [
      "/Users/toru/.ipython/extensions\n"
     ]
    }
   ],
   "source": [
    "from IPython.core import extensions\n",
    "E = extensions.ExtensionManager(shell=get_ipython())\n",
    "print (E.ipython_extension_dir)"
   ]
  },
  {
   "cell_type": "code",
   "execution_count": 15,
   "metadata": {
    "collapsed": false
   },
   "outputs": [
    {
     "data": {
      "text/plain": [
       "<ipykernel.zmqshell.ZMQInteractiveShell at 0x103e54f60>"
      ]
     },
     "execution_count": 15,
     "metadata": {},
     "output_type": "execute_result"
    }
   ],
   "source": [
    "E."
   ]
  },
  {
   "cell_type": "code",
   "execution_count": 21,
   "metadata": {
    "collapsed": false
   },
   "outputs": [
    {
     "name": "stdout",
     "output_type": "stream",
     "text": [
      "The tikzmagic extension is already loaded. To reload it, use:\n",
      "  %reload_ext tikzmagic\n"
     ]
    }
   ],
   "source": [
    "%load_ext tikzmagic"
   ]
  },
  {
   "cell_type": "code",
   "execution_count": 22,
   "metadata": {
    "collapsed": false
   },
   "outputs": [
    {
     "data": {
      "image/png": "[encoded data removed]"
     },
     "metadata": {},
     "output_type": "display_data"
    }
   ],
   "source": [
    "%tikz \\draw (0,0) rectangle (1,1);\n"
   ]
  },
  {
   "cell_type": "code",
   "execution_count": null,
   "metadata": {
    "collapsed": true
   },
   "outputs": [],
   "source": []
  }
 ],
 "metadata": {
  "kernelspec": {
   "display_name": "Python 3",
   "language": "python",
   "name": "python3"
  },
  "language_info": {
   "codemirror_mode": {
    "name": "ipython",
    "version": 3
   },
   "file_extension": ".py",
   "mimetype": "text/x-python",
   "name": "python",
   "nbconvert_exporter": "python",
   "pygments_lexer": "ipython3",
   "version": "3.5.1"
  },
  "latex_envs": {
   "bibliofile": "biblio.bib",
   "cite_by": "apalike",
   "current_citInitial": 1,
   "eqLabelWithNumbers": true,
   "eqNumInitial": 0
  }
 },
 "nbformat": 4,
 "nbformat_minor": 0
}
